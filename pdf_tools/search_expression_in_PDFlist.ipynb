{
 "cells": [
  {
   "cell_type": "markdown",
   "metadata": {},
   "source": [
    "# Search for expression in a list of PDFs\n",
    "\n",
    "Go through a list of PDFs and search for a given expression"
   ]
  },
  {
   "cell_type": "markdown",
   "metadata": {},
   "source": [
    "#### Python environment installation instructions\n",
    "\n",
    "General Packages:\n",
    "\n",
    "    conda install numpy scipy matplotlib jupyter\n",
    "\n",
    "Specific packages:\n",
    "\n",
    "    conda install tika"
   ]
  },
  {
   "cell_type": "markdown",
   "metadata": {},
   "source": [
    "#### Example PDF files\n",
    "\n",
    "This example uses 5 PDF files. They can be downloaded from the link list below and should be copied to a folder called 'pdfs' in the working directory. Link list\n",
    "\n",
    "    https://doi.org/10.1073/pnas.1117201109\n",
    "    https://doi.org/10.1073/pnas.1919182117\n",
    "    https://doi.org/10.1073/pnas.1911622116\n",
    "    https://doi.org/10.1073/pnas.2000414117\n",
    "    https://doi.org/10.1073/pnas.1815432116"
   ]
  },
  {
   "cell_type": "code",
   "execution_count": 1,
   "metadata": {},
   "outputs": [],
   "source": [
    "# set path to directory with pdfs\n",
    "pdf_path = './pdfs/'"
   ]
  },
  {
   "cell_type": "markdown",
   "metadata": {},
   "source": [
    "### Import required packages"
   ]
  },
  {
   "cell_type": "code",
   "execution_count": 2,
   "metadata": {},
   "outputs": [
    {
     "name": "stdout",
     "output_type": "stream",
     "text": [
      "Populating the interactive namespace from numpy and matplotlib\n"
     ]
    }
   ],
   "source": [
    "# representation of plots\n",
    "%pylab inline"
   ]
  },
  {
   "cell_type": "code",
   "execution_count": 3,
   "metadata": {},
   "outputs": [],
   "source": [
    "# import required packages\n",
    "import os,re\n",
    "import fnmatch\n",
    "from tika import parser"
   ]
  },
  {
   "cell_type": "markdown",
   "metadata": {},
   "source": [
    "## Get PDF list\n",
    "\n",
    "First we get a list of all pdfs by searching the specified directory for files with the .pdf extension; this could potentially also include subfolders of the given folder path."
   ]
  },
  {
   "cell_type": "code",
   "execution_count": 4,
   "metadata": {},
   "outputs": [],
   "source": [
    "# define search pattern to include files in list\n",
    "pattern = '*.pdf'"
   ]
  },
  {
   "cell_type": "code",
   "execution_count": 5,
   "metadata": {},
   "outputs": [],
   "source": [
    "# find all files in path recursively\n",
    "file_list = []\n",
    "for dirpath, dirnames, filenames in os.walk(pdf_path):\n",
    "    if not filenames:\n",
    "        continue\n",
    "    pdf_files = fnmatch.filter(filenames, pattern)\n",
    "    if pdf_files:\n",
    "        for file in pdf_files:\n",
    "            file_list.append('{}/{}'.format(dirpath, file))\n",
    "            #print('{}/{}'.format(dirpath, file))"
   ]
  },
  {
   "cell_type": "code",
   "execution_count": 6,
   "metadata": {},
   "outputs": [
    {
     "name": "stdout",
     "output_type": "stream",
     "text": [
      "0 ./pdfs//1591.full.pdf\n",
      "1 ./pdfs//2767.full.pdf\n",
      "2 ./pdfs//24748.full.pdf\n",
      "3 ./pdfs//12980.full.pdf\n",
      "4 ./pdfs//7981.full.pdf\n"
     ]
    }
   ],
   "source": [
    "# print the file list with numbers\n",
    "for num, item in enumerate(file_list):\n",
    "    print (num, item)"
   ]
  },
  {
   "cell_type": "markdown",
   "metadata": {},
   "source": [
    "## Search regular expression in all PDFs\n",
    "\n",
    "Loop over the PDF list and search for a specified expression"
   ]
  },
  {
   "cell_type": "markdown",
   "metadata": {},
   "source": [
    "### Define search pattern and search"
   ]
  },
  {
   "cell_type": "code",
   "execution_count": 7,
   "metadata": {},
   "outputs": [],
   "source": [
    "# search pattern\n",
    "s_pattern = '.*.immune.*.response.*'"
   ]
  },
  {
   "cell_type": "code",
   "execution_count": 8,
   "metadata": {},
   "outputs": [
    {
     "name": "stdout",
     "output_type": "stream",
     "text": [
      "0 :  ./pdfs//1591.full.pdf\n",
      "number of matches found in file 0:  0\n",
      "1 :  ./pdfs//2767.full.pdf\n",
      "number of matches found in file 1:  1\n",
      "2 :  ./pdfs//24748.full.pdf\n",
      "number of matches found in file 2:  3\n",
      "3 :  ./pdfs//12980.full.pdf\n",
      "number of matches found in file 3:  13\n",
      "4 :  ./pdfs//7981.full.pdf\n",
      "number of matches found in file 4:  3\n"
     ]
    }
   ],
   "source": [
    "# now we loop over the file list and and store the results\n",
    "found_num = []    # store number of matches in each file here\n",
    "found_list = []   # store list of files with matching patterns here\n",
    "found_obj = []    # store matches here\n",
    "for n in range (len(file_list)):\n",
    "    l = file_list[n]\n",
    "    print (str(n)+' : ',l)\n",
    "    parsedPDF = parser.from_file(l)\n",
    "    pdftext = parsedPDF['content']\n",
    "    findObj = re.findall(s_pattern, pdftext, re.M|re.I)\n",
    "    found_num.append(len(findObj))\n",
    "    print('number of matches found in file '+str(n)+': ', len(findObj))\n",
    "    if len(findObj) > 0:\n",
    "        found_list.append(l)\n",
    "        found_obj.append(findObj)"
   ]
  },
  {
   "cell_type": "markdown",
   "metadata": {},
   "source": [
    "### Look at search results"
   ]
  },
  {
   "cell_type": "code",
   "execution_count": 9,
   "metadata": {},
   "outputs": [
    {
     "name": "stdout",
     "output_type": "stream",
     "text": [
      "-------------------------------------------------------------------------------------------------\n",
      "file name =  ./pdfs//2767.full.pdf\n",
      " -  the virus to escape the adaptive immune response via antigenic drift.\n",
      "-------------------------------------------------------------------------------------------------\n",
      "-------------------------------------------------------------------------------------------------\n",
      "file name =  ./pdfs//24748.full.pdf\n",
      " -  significance of PCPS in the in vivo immune response thus\n",
      " -  in vivo immune response is currently unknown. Here, we have\n",
      " -  means of evading host immune responses (14). Our findings thus\n",
      "-------------------------------------------------------------------------------------------------\n",
      "-------------------------------------------------------------------------------------------------\n",
      "file name =  ./pdfs//12980.full.pdf\n",
      " -  each representing alternative fates of the immune response: It can\n",
      " -  rates that can be suppressed by the immune response. Our results\n",
      " -  leles, leading to differential patterns of immune response among\n",
      " -  patients (13–15), while characteristics of immune response during\n",
      " -  range of immune response and escape mutation. Similar ap-\n",
      " -  Disease Progression Under Immune Response.We examined general\n",
      " -  trends of viral infection-immune response dynamics within our\n",
      " -  ing the effectiveness of immune response, and the mutation\n",
      " -  removal of virions occur via immune response, which can be re-\n",
      " -  illustrates the dynamic deterioration of immune response during HIV-1 infec-\n",
      " -  tempting to boost the overall immune response. We also note,\n",
      " -  as the CTL-mediated immune response, we expect similar ap-\n",
      " -  18. Nowak MA, Bangham CR (1996) Population dynamics of immune responses to persis-\n",
      "-------------------------------------------------------------------------------------------------\n",
      "-------------------------------------------------------------------------------------------------\n",
      "file name =  ./pdfs//7981.full.pdf\n",
      " -  antiviral antibody and T cell-mediated immune responses in vac-\n",
      " -  ment of active immune responses. The observation of early fetal\n",
      " -  from antiviral immune responses. The observation of delayed vi-\n",
      "-------------------------------------------------------------------------------------------------\n"
     ]
    }
   ],
   "source": [
    "# List of matching files and search results\n",
    "for num, item in enumerate(found_list):\n",
    "    print ('-------------------------------------------------------------------------------------------------')\n",
    "    print ('file name = ', item)\n",
    "    for matchtxt in found_obj[num]:\n",
    "        print (' - ',matchtxt)\n",
    "    print ('-------------------------------------------------------------------------------------------------')"
   ]
  },
  {
   "cell_type": "code",
   "execution_count": null,
   "metadata": {},
   "outputs": [],
   "source": []
  }
 ],
 "metadata": {
  "kernelspec": {
   "display_name": "Python 3",
   "language": "python",
   "name": "python3"
  },
  "language_info": {
   "codemirror_mode": {
    "name": "ipython",
    "version": 3
   },
   "file_extension": ".py",
   "mimetype": "text/x-python",
   "name": "python",
   "nbconvert_exporter": "python",
   "pygments_lexer": "ipython3",
   "version": "3.5.6"
  }
 },
 "nbformat": 4,
 "nbformat_minor": 2
}
